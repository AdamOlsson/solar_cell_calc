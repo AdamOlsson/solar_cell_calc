{
 "cells": [
  {
   "cell_type": "code",
   "execution_count": null,
   "id": "71d9029e",
   "metadata": {},
   "outputs": [],
   "source": [
    "# values correspond hourly 00:00 to 23:00\n",
    "hourly_kW_prod_june_15_7kWp_system = [0,0,0,0,0,0.1,1.2,3.4,5.7,7.8,9.4,11.1,11.7,10.5,11.1,10,8.1,5.7,3.3,2,0.6,0.10.1,0]\n",
    "hourly_kW_prod_december_15_7kWp_system = [0,0,0,0,0,0,0,0,0,0.4,2.2,3,1.3,0.5,0.4,0.1,0,0,0,0,0,0,0,0]"
   ]
  }
 ],
 "metadata": {
  "kernelspec": {
   "display_name": "Python 3 (ipykernel)",
   "language": "python",
   "name": "python3"
  },
  "language_info": {
   "codemirror_mode": {
    "name": "ipython",
    "version": 3
   },
   "file_extension": ".py",
   "mimetype": "text/x-python",
   "name": "python",
   "nbconvert_exporter": "python",
   "pygments_lexer": "ipython3",
   "version": "3.11.7"
  }
 },
 "nbformat": 4,
 "nbformat_minor": 5
}
